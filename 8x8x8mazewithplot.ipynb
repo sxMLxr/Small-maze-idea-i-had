{
 "cells": [
  {
   "cell_type": "markdown",
   "id": "9381ae87-4579-4865-9798-7195841c7e2d",
   "metadata": {},
   "source": [
    "# create a 3d plot with rotating axis"
   ]
  },
  {
   "cell_type": "markdown",
   "id": "75b01ad4-0d99-4c61-9354-02563ce3266d",
   "metadata": {},
   "source": [
    "# import the libraries"
   ]
  },
  {
   "cell_type": "code",
   "execution_count": 1,
   "id": "1568aec7-a984-4bac-961c-608da987d49c",
   "metadata": {},
   "outputs": [
    {
     "name": "stdout",
     "output_type": "stream",
     "text": [
      "Requirement already satisfied: matplotlib in ./anaconda3/lib/python3.12/site-packages (3.9.2)\n",
      "Requirement already satisfied: contourpy>=1.0.1 in ./anaconda3/lib/python3.12/site-packages (from matplotlib) (1.2.0)\n",
      "Requirement already satisfied: cycler>=0.10 in ./anaconda3/lib/python3.12/site-packages (from matplotlib) (0.11.0)\n",
      "Requirement already satisfied: fonttools>=4.22.0 in ./anaconda3/lib/python3.12/site-packages (from matplotlib) (4.51.0)\n",
      "Requirement already satisfied: kiwisolver>=1.3.1 in ./anaconda3/lib/python3.12/site-packages (from matplotlib) (1.4.4)\n",
      "Requirement already satisfied: numpy>=1.23 in ./anaconda3/lib/python3.12/site-packages (from matplotlib) (1.26.4)\n",
      "Requirement already satisfied: packaging>=20.0 in ./anaconda3/lib/python3.12/site-packages (from matplotlib) (24.1)\n",
      "Requirement already satisfied: pillow>=8 in ./anaconda3/lib/python3.12/site-packages (from matplotlib) (10.4.0)\n",
      "Requirement already satisfied: pyparsing>=2.3.1 in ./anaconda3/lib/python3.12/site-packages (from matplotlib) (3.1.2)\n",
      "Requirement already satisfied: python-dateutil>=2.7 in ./anaconda3/lib/python3.12/site-packages (from matplotlib) (2.9.0.post0)\n",
      "Requirement already satisfied: six>=1.5 in ./anaconda3/lib/python3.12/site-packages (from python-dateutil>=2.7->matplotlib) (1.16.0)\n"
     ]
    }
   ],
   "source": [
    "!pip install matplotlib\n"
   ]
  },
  {
   "cell_type": "code",
   "execution_count": 2,
   "id": "12102ecf-ba46-42be-841d-414d52397bf6",
   "metadata": {},
   "outputs": [],
   "source": [
    "import numpy as np\n",
    "import matplotlib.pyplot as plt\n",
    "# Rotate the plot automatically when it's generated\n",
    "from mpl_toolkits.mplot3d import Axes3D"
   ]
  },
  {
   "cell_type": "code",
   "execution_count": 3,
   "id": "b5e02030-fc98-4310-ac36-8de261ee4d19",
   "metadata": {},
   "outputs": [],
   "source": [
    "def rotate_plot(ax):\n",
    "    ax.view_init(elev=10., azim=-25.)   # adjust elevation and azimuth angles as needed"
   ]
  },
  {
   "cell_type": "code",
   "execution_count": 4,
   "id": "c29ee92c-adfa-46aa-a198-15b10168e655",
   "metadata": {},
   "outputs": [],
   "source": [
    "path = [(0, 0, 0), (1, 0, 0), (0, 1, 0), (0, 0, 1), (0, 0, 2),\n",
    "        (0, 0, 3), (0, 0, 4), (1, 0, 4), (0, 1, 4), (0, 0, 5),\n",
    "        (0, 0, 6), (1, 0, 6), (0, 1, 6)]"
   ]
  },
  {
   "cell_type": "code",
   "execution_count": 5,
   "id": "5dd574ad-c86c-4727-8a87-a9b5441b7d43",
   "metadata": {},
   "outputs": [
    {
     "data": {
      "image/png": "[encoded data removed]",
      "text/plain": [
       "<Figure size 640x480 with 1 Axes>"
      ]
     },
     "metadata": {},
     "output_type": "display_data"
    }
   ],
   "source": [
    "# Create a figure and axis\n",
    "fig = plt.figure()\n",
    "\n",
    "### add second plot\n",
    "\n",
    "ax2 = fig.add_subplot(121, projection='3d')\n",
    "\n",
    "# Plot the path as red dots\n",
    "x, y, z = zip(*path)\n",
    "ax2.scatter(x, y, z, c='r', marker='o')\n",
    "\n",
    "# Add a line graph to show the path taken\n",
    "line_path_x, line_path_y, line_path_z = [], [], []\n",
    "for i in range(len(path) - 1):\n",
    "    x0, y0, z0 = path[i]\n",
    "    x1, y1, z1 = path[i + 1]\n",
    "    line_path_x.extend([x0, x1])\n",
    "    line_path_y.extend([y0, y1])\n",
    "    line_path_z.extend([z0, z1])\n",
    "\n",
    "ax2.plot3D(line_path_x, line_path_y, line_path_z, c='b')\n",
    "\n",
    "# Set the limits of the plot to match the coordinates\n",
    "ax2.set_xlim(-1, 10)\n",
    "ax2.set_ylim(-1, 10)\n",
    "ax2.set_zlim(0, 10)\n",
    "\n",
    "rotate_plot(ax2)   # call this function to apply rotation\n",
    "\n",
    "# Show the plot\n",
    "plt.show()"
   ]
  },
  {
   "cell_type": "markdown",
   "id": "2ab23839-4f35-459b-a87e-84c8296d029c",
   "metadata": {},
   "source": [
    "# How fun... lets see what this looks like as a maze puzzle, with an algorithm to solve its path using BFS"
   ]
  },
  {
   "cell_type": "markdown",
   "id": "c995421d-344d-4dab-ade1-0c1df8505bf6",
   "metadata": {},
   "source": [
    "## First lets create a maze the hardway."
   ]
  },
  {
   "cell_type": "code",
   "execution_count": 6,
   "id": "93f52f3c-6a94-48af-816d-83ebec44bb36",
   "metadata": {},
   "outputs": [],
   "source": [
    "maze = [[[0, 0, 0, 0, 0, 0, 0, 0],\n",
    "         [0, 0, 0, 0, 0, 0, 0, 0],\n",
    "         [0, 0, 0, 0, 0, 0, 0, 0],\n",
    "         [0, 0, 0, 0, 0, 0, 0, 0],\n",
    "         [0, 0, 0, 0, 0, 0, 0, 0],\n",
    "         [0, 0, 0, 0, 0, 0, 0, 0],\n",
    "         [0, 0, 0, 0, 0, 0, 0, 0],\n",
    "         [0, 0, 0, 0, 0, 0, 0, 0]],\n",
    "\n",
    "        [[1, 1, 1, 1, 1, 1, 1, 1],    # layer 2 (with obstacles)\n",
    "         [1, 0, 0, 0, 0, 0, 0, 1],\n",
    "         [1, 0, 1, 1, 1, 1, 0, 1],\n",
    "         [1, 0, 0, 0, 0, 0, 0, 1],\n",
    "         [1, 0, 1, 1, 1, 1, 0, 1],\n",
    "         [1, 0, 0, 0, 0, 0, 0, 1],\n",
    "         [1, 1, 1, 1, 1, 1, 1, 1],\n",
    "\n",
    "        [[0, 0, 0, 0, 0, 0, 0, 0],    # layer 3\n",
    "         [0, 0, 0, 0, 0, 0, 0, 0],\n",
    "         [0, 0, 1, 1, 1, 1, 0, 0],\n",
    "         [0, 0, 0, 0, 0, 0, 0, 0],\n",
    "         [0, 0, 1, 1, 1, 1, 0, 0],\n",
    "         [0, 0, 0, 0, 0, 0, 0, 0],\n",
    "         [0, 0, 0, 0, 0, 0, 0, 0],\n",
    "\n",
    "        [[1, 1, 1, 1, 1, 1, 1, 1],    # layer 4 (with obstacles)\n",
    "         [1, 0, 0, 0, 0, 0, 0, 1],\n",
    "         [1, 0, 1, 1, 1, 1, 0, 1],\n",
    "         [1, 0, 0, 0, 0, 0, 0, 1],\n",
    "         [1, 0, 1, 1, 1, 1, 0, 1],\n",
    "         [1, 0, 0, 0, 0, 0, 0, 1],\n",
    "         [1, 1, 1, 1, 1, 1, 1, 1],\n",
    "\n",
    "        [[0, 0, 0, 0, 0, 0, 0, 0],    # layer 5\n",
    "         [0, 0, 0, 0, 0, 0, 0, 0],\n",
    "         [0, 0, 1, 1, 1, 1, 0, 0],\n",
    "         [0, 0, 0, 0, 0, 0, 0, 0],\n",
    "         [0, 0, 1, 1, 1, 1, 0, 0],\n",
    "         [0, 0, 0, 0, 0, 0, 0, 0],\n",
    "         [0, 0, 0, 0, 0, 0, 0, 0],\n",
    "\n",
    "        [[1, 1, 1, 1, 1, 1, 1, 1],    # layer 6 (with obstacles)\n",
    "         [1, 0, 0, 0, 0, 0, 0, 1],\n",
    "         [1, 0, 1, 1, 1, 1, 0, 1],\n",
    "         [1, 0, 0, 0, 0, 0, 0, 1],\n",
    "         [1, 0, 1, 1, 1, 1, 0, 1],\n",
    "         [1, 0, 0, 0, 0, 0, 0, 1],\n",
    "         [1, 1, 1, 1, 1, 1, 1, 1],\n",
    "\n",
    "        [[0, 0, 0, 0, 0, 0, 0, 0],    # layer 7\n",
    "         [0, 0, 0, 0, 0, 0, 0, 0],\n",
    "         [0, 0, 1, 1, 1, 1, 0, 0],\n",
    "         [0, 0, 0, 0, 0, 0, 0, 0],\n",
    "         [0, 0, 1, 1, 1, 1, 0, 0],\n",
    "         [0, 0, 0, 0, 0, 0, 0, 0],\n",
    "         [0, 0, 0, 0, 0, 0, 0, 0],\n",
    "\n",
    "        [[1, 1, 1, 1, 1, 1, 1, 1],    # layer 8 (with obstacles)\n",
    "         [1, 0, 0, 0, 0, 0, 0, 1],\n",
    "         [1, 0, 1, 1, 1, 1, 0, 1],\n",
    "         [1, 0, 0, 0, 0, 0, 0, 1],\n",
    "         [1, 0, 1, 1, 1, 1, 0, 1],\n",
    "         [1, 0, 0, 0, 0, 0, 0, 1],\n",
    "         [1, 1, 1, 1, 1, 1, 1, 1]]\n",
    "        ]]]]]]]"
   ]
  },
  {
   "cell_type": "markdown",
   "id": "4f04d874-829a-4caf-ac84-0d146dcc93fb",
   "metadata": {},
   "source": [
    "# extremely slow and inefficient... let's code this instead."
   ]
  },
  {
   "cell_type": "markdown",
   "id": "96c298c0-b83c-45c7-93bc-18fc32538b46",
   "metadata": {},
   "source": [
    "# Create an 8x8x8 maze then use bread-first-search to find a solution through maze\n"
   ]
  },
  {
   "cell_type": "code",
   "execution_count": 13,
   "id": "94f592fd-a0f4-45a8-a9f2-0b22182c62b8",
   "metadata": {},
   "outputs": [
    {
     "name": "stdout",
     "output_type": "stream",
     "text": [
      "Solution: [(0, 0, 0), (0, 1, 0), (1, 1, 0), (2, 1, 0), (3, 1, 0), (4, 1, 0), (5, 1, 0), (5, 2, 0), (5, 3, 0), (5, 3, 1), (6, 3, 1), (6, 3, 2), (7, 3, 2), (7, 3, 3), (7, 3, 4), (7, 3, 5), (7, 3, 6), (7, 4, 6), (7, 5, 6), (7, 5, 7), (7, 6, 7), (7, 7, 7)]\n"
     ]
    }
   ],
   "source": [
    "# if no solution ~ run again\n",
    "\n",
    "#We can hand code it like above or we can use some automation\n",
    "from collections import deque\n",
    "import random\n",
    "\n",
    "# Define the maze dimensions\n",
    "MAZE_SIZE = 8\n",
    "\n",
    "# Initialize the maze as a 3D array of zeros\n",
    "maze = [[[0 for _ in range(MAZE_SIZE)] for _ in range(MAZE_SIZE)] for _ in range(MAZE_SIZE)]\n",
    "\n",
    "# build obstacles\n",
    "for z in range (8):\n",
    "    for i in range(8):\n",
    "        for j in range(8):\n",
    "            if random.random() < 0.5:  # 50% chance of being an obstacle\n",
    "                maze[z][i][j] = 1\n",
    "\n",
    "# Set the start and end points (you can adjust these to your liking)\n",
    "start_point = (0, 0, 0)  # top-left corner\n",
    "end_point = (MAZE_SIZE - 1, MAZE_SIZE - 1, MAZE_SIZE - 1)  # bottom-right corner\n",
    "\n",
    "# Define the possible movements in a 3D space (up, down, left, right, forward, backward)\n",
    "movements = [(0, 0, 1), (0, 0, -1), (0, 1, 0), (0, -1, 0), (1, 0, 0), (-1, 0, 0)]\n",
    "\n",
    "# Define the BFS function\n",
    "def bfs(maze):\n",
    "    queue = deque([(start_point, [start_point])])\n",
    "    visited = set()\n",
    "\n",
    "    while queue:\n",
    "        point, path = queue.popleft()\n",
    "        if point == end_point:\n",
    "            return path\n",
    "\n",
    "        for movement in movements:\n",
    "            new_point = (point[0] + movement[0], point[1] + movement[1], point[2] + movement[2])\n",
    "            if 0 <= new_point[0] < MAZE_SIZE and 0 <= new_point[1] < MAZE_SIZE and 0 <= new_point[2] < MAZE_SIZE:\n",
    "                if maze[new_point[0]][new_point[1]][new_point[2]] == 0:  # check if the cell is not blocked\n",
    "                    if new_point not in visited:\n",
    "                        queue.append((new_point, path + [new_point]))\n",
    "                        visited.add(new_point)\n",
    "\n",
    "    return None\n",
    "\n",
    "# Run the BFS algorithm and print the solution (if found)\n",
    "solution = bfs(maze)\n",
    "print(\"Solution:\", solution) if solution else print(\"No solution found\")\n",
    "\n"
   ]
  },
  {
   "cell_type": "code",
   "execution_count": 49,
   "id": "ef02f0e8-da8a-4d5a-a708-9517257c71b4",
   "metadata": {},
   "outputs": [
    {
     "data": {
      "text/plain": [
       "[[[1, 1, 1, 0, 1, 0, 0, 1],\n",
       "  [0, 0, 0, 1, 0, 1, 1, 1],\n",
       "  [1, 1, 1, 1, 1, 1, 1, 0],\n",
       "  [0, 0, 1, 1, 0, 0, 1, 1],\n",
       "  [0, 1, 1, 1, 1, 1, 1, 0],\n",
       "  [0, 1, 0, 0, 1, 0, 0, 1],\n",
       "  [0, 0, 0, 0, 1, 0, 0, 0],\n",
       "  [1, 1, 0, 0, 1, 1, 1, 0]],\n",
       " [[1, 0, 0, 0, 1, 0, 0, 0],\n",
       "  [0, 1, 1, 1, 0, 0, 1, 1],\n",
       "  [1, 0, 1, 0, 0, 1, 0, 1],\n",
       "  [1, 1, 1, 1, 0, 1, 0, 1],\n",
       "  [0, 1, 0, 0, 0, 1, 1, 1],\n",
       "  [1, 1, 1, 1, 0, 1, 1, 0],\n",
       "  [0, 0, 1, 0, 0, 0, 0, 1],\n",
       "  [1, 1, 1, 0, 1, 0, 0, 1]],\n",
       " [[1, 1, 0, 1, 0, 0, 1, 1],\n",
       "  [0, 1, 1, 1, 1, 1, 0, 1],\n",
       "  [1, 1, 1, 0, 1, 1, 1, 1],\n",
       "  [1, 1, 1, 1, 0, 0, 1, 0],\n",
       "  [0, 0, 0, 0, 0, 1, 1, 0],\n",
       "  [1, 0, 0, 0, 1, 0, 0, 0],\n",
       "  [0, 0, 1, 1, 1, 1, 0, 1],\n",
       "  [1, 0, 0, 0, 0, 0, 0, 1]],\n",
       " [[1, 0, 1, 0, 0, 1, 1, 1],\n",
       "  [0, 0, 1, 0, 0, 1, 1, 0],\n",
       "  [1, 1, 0, 0, 0, 0, 0, 1],\n",
       "  [1, 1, 0, 0, 0, 1, 0, 1],\n",
       "  [0, 1, 0, 0, 0, 0, 1, 1],\n",
       "  [0, 1, 0, 1, 0, 0, 0, 0],\n",
       "  [0, 0, 1, 1, 0, 0, 1, 0],\n",
       "  [1, 1, 1, 0, 0, 0, 0, 0]],\n",
       " [[1, 1, 1, 1, 0, 1, 1, 0],\n",
       "  [0, 0, 0, 1, 1, 0, 0, 0],\n",
       "  [1, 1, 1, 1, 1, 1, 1, 0],\n",
       "  [1, 0, 1, 1, 0, 1, 1, 1],\n",
       "  [0, 1, 0, 0, 0, 1, 1, 0],\n",
       "  [0, 0, 0, 1, 0, 0, 0, 1],\n",
       "  [0, 0, 1, 1, 0, 1, 1, 0],\n",
       "  [1, 1, 0, 0, 0, 0, 1, 1]],\n",
       " [[1, 1, 1, 1, 0, 1, 1, 0],\n",
       "  [0, 1, 1, 1, 0, 1, 1, 1],\n",
       "  [0, 1, 1, 0, 1, 0, 0, 1],\n",
       "  [0, 0, 1, 1, 1, 0, 0, 1],\n",
       "  [1, 1, 0, 1, 0, 0, 1, 0],\n",
       "  [1, 0, 1, 1, 0, 0, 0, 1],\n",
       "  [0, 1, 0, 1, 0, 0, 1, 1],\n",
       "  [1, 1, 0, 0, 1, 1, 1, 0]],\n",
       " [[1, 1, 0, 1, 0, 1, 0, 0],\n",
       "  [0, 1, 1, 1, 0, 1, 0, 1],\n",
       "  [1, 0, 1, 0, 1, 0, 0, 1],\n",
       "  [0, 0, 0, 1, 1, 1, 1, 0],\n",
       "  [0, 0, 1, 0, 0, 1, 0, 1],\n",
       "  [1, 0, 1, 0, 0, 0, 1, 1],\n",
       "  [1, 0, 0, 0, 0, 1, 1, 0],\n",
       "  [0, 1, 0, 1, 0, 0, 0, 0]],\n",
       " [[0, 0, 1, 0, 1, 1, 0, 1],\n",
       "  [0, 1, 1, 1, 1, 0, 1, 1],\n",
       "  [1, 0, 1, 1, 1, 0, 0, 0],\n",
       "  [1, 0, 0, 0, 0, 0, 0, 1],\n",
       "  [1, 0, 1, 1, 0, 0, 0, 1],\n",
       "  [0, 0, 1, 1, 0, 1, 0, 0],\n",
       "  [0, 0, 0, 0, 0, 0, 1, 0],\n",
       "  [0, 0, 1, 1, 0, 0, 0, 0]]]"
      ]
     },
     "execution_count": 49,
     "metadata": {},
     "output_type": "execute_result"
    }
   ],
   "source": [
    "maze\n"
   ]
  },
  {
   "cell_type": "markdown",
   "id": "aa044f41-59ee-4784-88bc-a1e02e8e23d2",
   "metadata": {},
   "source": [
    "# using the solution, lets plug it into our 3d map"
   ]
  },
  {
   "cell_type": "code",
   "execution_count": 61,
   "id": "bba6490c-28c6-4d67-bef8-5ee1d813f250",
   "metadata": {},
   "outputs": [
    {
     "data": {
      "image/png": "[encoded data removed]",
      "text/plain": [
       "<Figure size 640x480 with 1 Axes>"
      ]
     },
     "metadata": {},
     "output_type": "display_data"
    }
   ],
   "source": [
    "# Create a figure and axis\n",
    "fig = plt.figure()\n",
    "\n",
    "### add second plot\n",
    "\n",
    "ax3 = fig.add_subplot(111, projection='3d')\n",
    "\n",
    "# Plot the path as red dots\n",
    "x, y, z = zip(*solution)\n",
    "ax3.scatter(x, y, z, c='r', marker='o')\n",
    "\n",
    "# Add a line graph to show the path taken\n",
    "line_path_x, line_path_y, line_path_z = [], [], []\n",
    "for i in range(len(solution) - 1):\n",
    "    x0, y0, z0 = solution[i]\n",
    "    x1, y1, z1 = solution[i + 1]\n",
    "    line_path_x.extend([x0, x1])\n",
    "    line_path_y.extend([y0, y1])\n",
    "    line_path_z.extend([z0, z1])\n",
    "\n",
    "ax3.plot3D(line_path_x, line_path_y, line_path_z, c='b')\n",
    "\n",
    "# Set the limits of the plot to match the coordinates\n",
    "ax3.set_xlim(-1, 8)\n",
    "ax3.set_ylim(-1, 8)\n",
    "ax3.set_zlim(0, 8),\n",
    "\n",
    "rotate_plot(ax3)   # call this function to apply rotation\n",
    "\n",
    "# Show the plot\n",
    "plt.show()"
   ]
  },
  {
   "cell_type": "code",
   "execution_count": 51,
   "id": "1c22ec65-5994-4f22-bc05-b80a4b3a7131",
   "metadata": {},
   "outputs": [
    {
     "data": {
      "image/png": "[encoded data removed]",
      "text/plain": [
       "<Figure size 640x480 with 1 Axes>"
      ]
     },
     "metadata": {},
     "output_type": "display_data"
    }
   ],
   "source": [
    "import matplotlib.pyplot as plt\n",
    "from mpl_toolkits.mplot3d import Axes3D\n",
    "\n",
    "# Define the 8x8x8 coordinates (assuming you have a list of points)\n",
    "points = solution\n",
    "\n",
    "fig = plt.figure()\n",
    "ax = fig.add_subplot(111, projection='3d')\n",
    "\n",
    "for point in points:\n",
    "    x, y, z = point\n",
    "    ax.scatter(x, y, z)\n",
    "\n",
    "# Set the axis limits to ensure all points are visible\n",
    "ax.set_xlim(-1, 8)\n",
    "ax.set_ylim(-1, 8)\n",
    "ax.set_zlim(-1, 8)\n",
    "\n",
    "\n",
    "plt.show()"
   ]
  },
  {
   "cell_type": "markdown",
   "id": "80ac5280-2f21-4275-8a31-62cd4fee3ca8",
   "metadata": {},
   "source": [
    "## Lets make it Interactive!!!"
   ]
  },
  {
   "cell_type": "code",
   "execution_count": null,
   "id": "4b10b3b2-871a-49bb-b5dc-e9b19df19b1d",
   "metadata": {},
   "outputs": [],
   "source": [
    "type(solution)"
   ]
  },
  {
   "cell_type": "code",
   "execution_count": 57,
   "id": "75a32a03-98dd-42c5-8e0a-883a98cd9957",
   "metadata": {},
   "outputs": [],
   "source": [
    "import pandas as pd\n",
    "points = pd.DataFrame(solution, columns=['x', 'y', 'z'])"
   ]
  },
  {
   "cell_type": "code",
   "execution_count": 63,
   "id": "5b7d3c09-9d65-4200-a088-c58fcd6c7ad9",
   "metadata": {},
   "outputs": [
    {
     "data": {
      "application/vnd.plotly.v1+json": {
       "config": {
        "plotlyServerURL": "https://plot.ly"
       },
       "data": [
        {
         "marker": {
          "opacity": 0.8,
          "size": 10
         },
         "mode": "markers",
         "type": "scatter3d",
         "x": [
          0,
          0,
          1,
          2,
          3,
          4,
          5,
          5,
          5,
          5,
          6,
          6,
          7,
          7,
          7,
          7,
          7,
          7,
          7,
          7,
          7,
          7
         ],
         "y": [
          0,
          1,
          1,
          1,
          1,
          1,
          1,
          2,
          3,
          3,
          3,
          3,
          3,
          3,
          3,
          3,
          3,
          4,
          5,
          5,
          6,
          7
         ],
         "z": [
          0,
          0,
          0,
          0,
          0,
          0,
          0,
          0,
          0,
          1,
          1,
          2,
          2,
          3,
          4,
          5,
          6,
          6,
          6,
          7,
          7,
          7
         ]
        }
       ],
       "layout": {
        "autosize": true,
        "margin": {
         "b": 0,
         "l": 0,
         "r": 0,
         "t": 0
        },
        "scene": {
         "aspectmode": "auto",
         "aspectratio": {
          "x": 1.0000000000000002,
          "y": 1.0000000000000002,
          "z": 1.0000000000000002
         },
         "camera": {
          "center": {
           "x": 0,
           "y": 0,
           "z": 0
          },
          "eye": {
           "x": 0.45345092300909956,
           "y": -1.521318121200828,
           "z": 0.24825042568041397
          },
          "projection": {
           "type": "perspective"
          },
          "up": {
           "x": 0,
           "y": 0,
           "z": 1
          }
         },
         "xaxis": {
          "title": {
           "text": "X Axis"
          },
          "type": "linear"
         },
         "yaxis": {
          "title": {
           "text": "Y Axis"
          },
          "type": "linear"
         },
         "zaxis": {
          "title": {
           "text": "Z Axis"
          },
          "type": "linear"
         }
        },
        "template": {
         "data": {
          "bar": [
           {
            "error_x": {
             "color": "#2a3f5f"
            },
            "error_y": {
             "color": "#2a3f5f"
            },
            "marker": {
             "line": {
              "color": "#E5ECF6",
              "width": 0.5
             },
             "pattern": {
              "fillmode": "overlay",
              "size": 10,
              "solidity": 0.2
             }
            },
            "type": "bar"
           }
          ],
          "barpolar": [
           {
            "marker": {
             "line": {
              "color": "#E5ECF6",
              "width": 0.5
             },
             "pattern": {
              "fillmode": "overlay",
              "size": 10,
              "solidity": 0.2
             }
            },
            "type": "barpolar"
           }
          ],
          "carpet": [
           {
            "aaxis": {
             "endlinecolor": "#2a3f5f",
             "gridcolor": "white",
             "linecolor": "white",
             "minorgridcolor": "white",
             "startlinecolor": "#2a3f5f"
            },
            "baxis": {
             "endlinecolor": "#2a3f5f",
             "gridcolor": "white",
             "linecolor": "white",
             "minorgridcolor": "white",
             "startlinecolor": "#2a3f5f"
            },
            "type": "carpet"
           }
          ],
          "choropleth": [
           {
            "colorbar": {
             "outlinewidth": 0,
             "ticks": ""
            },
            "type": "choropleth"
           }
          ],
          "contour": [
           {
            "colorbar": {
             "outlinewidth": 0,
             "ticks": ""
            },
            "colorscale": [
             [
              0,
              "#0d0887"
             ],
             [
              0.1111111111111111,
              "#46039f"
             ],
             [
              0.2222222222222222,
              "#7201a8"
             ],
             [
              0.3333333333333333,
              "#9c179e"
             ],
             [
              0.4444444444444444,
              "#bd3786"
             ],
             [
              0.5555555555555556,
              "#d8576b"
             ],
             [
              0.6666666666666666,
              "#ed7953"
             ],
             [
              0.7777777777777778,
              "#fb9f3a"
             ],
             [
              0.8888888888888888,
              "#fdca26"
             ],
             [
              1,
              "#f0f921"
             ]
            ],
            "type": "contour"
           }
          ],
          "contourcarpet": [
           {
            "colorbar": {
             "outlinewidth": 0,
             "ticks": ""
            },
            "type": "contourcarpet"
           }
          ],
          "heatmap": [
           {
            "colorbar": {
             "outlinewidth": 0,
             "ticks": ""
            },
            "colorscale": [
             [
              0,
              "#0d0887"
             ],
             [
              0.1111111111111111,
              "#46039f"
             ],
             [
              0.2222222222222222,
              "#7201a8"
             ],
             [
              0.3333333333333333,
              "#9c179e"
             ],
             [
              0.4444444444444444,
              "#bd3786"
             ],
             [
              0.5555555555555556,
              "#d8576b"
             ],
             [
              0.6666666666666666,
              "#ed7953"
             ],
             [
              0.7777777777777778,
              "#fb9f3a"
             ],
             [
              0.8888888888888888,
              "#fdca26"
             ],
             [
              1,
              "#f0f921"
             ]
            ],
            "type": "heatmap"
           }
          ],
          "heatmapgl": [
           {
            "colorbar": {
             "outlinewidth": 0,
             "ticks": ""
            },
            "colorscale": [
             [
              0,
              "#0d0887"
             ],
             [
              0.1111111111111111,
              "#46039f"
             ],
             [
              0.2222222222222222,
              "#7201a8"
             ],
             [
              0.3333333333333333,
              "#9c179e"
             ],
             [
              0.4444444444444444,
              "#bd3786"
             ],
             [
              0.5555555555555556,
              "#d8576b"
             ],
             [
              0.6666666666666666,
              "#ed7953"
             ],
             [
              0.7777777777777778,
              "#fb9f3a"
             ],
             [
              0.8888888888888888,
              "#fdca26"
             ],
             [
              1,
              "#f0f921"
             ]
            ],
            "type": "heatmapgl"
           }
          ],
          "histogram": [
           {
            "marker": {
             "pattern": {
              "fillmode": "overlay",
              "size": 10,
              "solidity": 0.2
             }
            },
            "type": "histogram"
           }
          ],
          "histogram2d": [
           {
            "colorbar": {
             "outlinewidth": 0,
             "ticks": ""
            },
            "colorscale": [
             [
              0,
              "#0d0887"
             ],
             [
              0.1111111111111111,
              "#46039f"
             ],
             [
              0.2222222222222222,
              "#7201a8"
             ],
             [
              0.3333333333333333,
              "#9c179e"
             ],
             [
              0.4444444444444444,
              "#bd3786"
             ],
             [
              0.5555555555555556,
              "#d8576b"
             ],
             [
              0.6666666666666666,
              "#ed7953"
             ],
             [
              0.7777777777777778,
              "#fb9f3a"
             ],
             [
              0.8888888888888888,
              "#fdca26"
             ],
             [
              1,
              "#f0f921"
             ]
            ],
            "type": "histogram2d"
           }
          ],
          "histogram2dcontour": [
           {
            "colorbar": {
             "outlinewidth": 0,
             "ticks": ""
            },
            "colorscale": [
             [
              0,
              "#0d0887"
             ],
             [
              0.1111111111111111,
              "#46039f"
             ],
             [
              0.2222222222222222,
              "#7201a8"
             ],
             [
              0.3333333333333333,
              "#9c179e"
             ],
             [
              0.4444444444444444,
              "#bd3786"
             ],
             [
              0.5555555555555556,
              "#d8576b"
             ],
             [
              0.6666666666666666,
              "#ed7953"
             ],
             [
              0.7777777777777778,
              "#fb9f3a"
             ],
             [
              0.8888888888888888,
              "#fdca26"
             ],
             [
              1,
              "#f0f921"
             ]
            ],
            "type": "histogram2dcontour"
           }
          ],
          "mesh3d": [
           {
            "colorbar": {
             "outlinewidth": 0,
             "ticks": ""
            },
            "type": "mesh3d"
           }
          ],
          "parcoords": [
           {
            "line": {
             "colorbar": {
              "outlinewidth": 0,
              "ticks": ""
             }
            },
            "type": "parcoords"
           }
          ],
          "pie": [
           {
            "automargin": true,
            "type": "pie"
           }
          ],
          "scatter": [
           {
            "fillpattern": {
             "fillmode": "overlay",
             "size": 10,
             "solidity": 0.2
            },
            "type": "scatter"
           }
          ],
          "scatter3d": [
           {
            "line": {
             "colorbar": {
              "outlinewidth": 0,
              "ticks": ""
             }
            },
            "marker": {
             "colorbar": {
              "outlinewidth": 0,
              "ticks": ""
             }
            },
            "type": "scatter3d"
           }
          ],
          "scattercarpet": [
           {
            "marker": {
             "colorbar": {
              "outlinewidth": 0,
              "ticks": ""
             }
            },
            "type": "scattercarpet"
           }
          ],
          "scattergeo": [
           {
            "marker": {
             "colorbar": {
              "outlinewidth": 0,
              "ticks": ""
             }
            },
            "type": "scattergeo"
           }
          ],
          "scattergl": [
           {
            "marker": {
             "colorbar": {
              "outlinewidth": 0,
              "ticks": ""
             }
            },
            "type": "scattergl"
           }
          ],
          "scattermapbox": [
           {
            "marker": {
             "colorbar": {
              "outlinewidth": 0,
              "ticks": ""
             }
            },
            "type": "scattermapbox"
           }
          ],
          "scatterpolar": [
           {
            "marker": {
             "colorbar": {
              "outlinewidth": 0,
              "ticks": ""
             }
            },
            "type": "scatterpolar"
           }
          ],
          "scatterpolargl": [
           {
            "marker": {
             "colorbar": {
              "outlinewidth": 0,
              "ticks": ""
             }
            },
            "type": "scatterpolargl"
           }
          ],
          "scatterternary": [
           {
            "marker": {
             "colorbar": {
              "outlinewidth": 0,
              "ticks": ""
             }
            },
            "type": "scatterternary"
           }
          ],
          "surface": [
           {
            "colorbar": {
             "outlinewidth": 0,
             "ticks": ""
            },
            "colorscale": [
             [
              0,
              "#0d0887"
             ],
             [
              0.1111111111111111,
              "#46039f"
             ],
             [
              0.2222222222222222,
              "#7201a8"
             ],
             [
              0.3333333333333333,
              "#9c179e"
             ],
             [
              0.4444444444444444,
              "#bd3786"
             ],
             [
              0.5555555555555556,
              "#d8576b"
             ],
             [
              0.6666666666666666,
              "#ed7953"
             ],
             [
              0.7777777777777778,
              "#fb9f3a"
             ],
             [
              0.8888888888888888,
              "#fdca26"
             ],
             [
              1,
              "#f0f921"
             ]
            ],
            "type": "surface"
           }
          ],
          "table": [
           {
            "cells": {
             "fill": {
              "color": "#EBF0F8"
             },
             "line": {
              "color": "white"
             }
            },
            "header": {
             "fill": {
              "color": "#C8D4E3"
             },
             "line": {
              "color": "white"
             }
            },
            "type": "table"
           }
          ]
         },
         "layout": {
          "annotationdefaults": {
           "arrowcolor": "#2a3f5f",
           "arrowhead": 0,
           "arrowwidth": 1
          },
          "autotypenumbers": "strict",
          "coloraxis": {
           "colorbar": {
            "outlinewidth": 0,
            "ticks": ""
           }
          },
          "colorscale": {
           "diverging": [
            [
             0,
             "#8e0152"
            ],
            [
             0.1,
             "#c51b7d"
            ],
            [
             0.2,
             "#de77ae"
            ],
            [
             0.3,
             "#f1b6da"
            ],
            [
             0.4,
             "#fde0ef"
            ],
            [
             0.5,
             "#f7f7f7"
            ],
            [
             0.6,
             "#e6f5d0"
            ],
            [
             0.7,
             "#b8e186"
            ],
            [
             0.8,
             "#7fbc41"
            ],
            [
             0.9,
             "#4d9221"
            ],
            [
             1,
             "#276419"
            ]
           ],
           "sequential": [
            [
             0,
             "#0d0887"
            ],
            [
             0.1111111111111111,
             "#46039f"
            ],
            [
             0.2222222222222222,
             "#7201a8"
            ],
            [
             0.3333333333333333,
             "#9c179e"
            ],
            [
             0.4444444444444444,
             "#bd3786"
            ],
            [
             0.5555555555555556,
             "#d8576b"
            ],
            [
             0.6666666666666666,
             "#ed7953"
            ],
            [
             0.7777777777777778,
             "#fb9f3a"
            ],
            [
             0.8888888888888888,
             "#fdca26"
            ],
            [
             1,
             "#f0f921"
            ]
           ],
           "sequentialminus": [
            [
             0,
             "#0d0887"
            ],
            [
             0.1111111111111111,
             "#46039f"
            ],
            [
             0.2222222222222222,
             "#7201a8"
            ],
            [
             0.3333333333333333,
             "#9c179e"
            ],
            [
             0.4444444444444444,
             "#bd3786"
            ],
            [
             0.5555555555555556,
             "#d8576b"
            ],
            [
             0.6666666666666666,
             "#ed7953"
            ],
            [
             0.7777777777777778,
             "#fb9f3a"
            ],
            [
             0.8888888888888888,
             "#fdca26"
            ],
            [
             1,
             "#f0f921"
            ]
           ]
          },
          "colorway": [
           "#636efa",
           "#EF553B",
           "#00cc96",
           "#ab63fa",
           "#FFA15A",
           "#19d3f3",
           "#FF6692",
           "#B6E880",
           "#FF97FF",
           "#FECB52"
          ],
          "font": {
           "color": "#2a3f5f"
          },
          "geo": {
           "bgcolor": "white",
           "lakecolor": "white",
           "landcolor": "#E5ECF6",
           "showlakes": true,
           "showland": true,
           "subunitcolor": "white"
          },
          "hoverlabel": {
           "align": "left"
          },
          "hovermode": "closest",
          "mapbox": {
           "style": "light"
          },
          "paper_bgcolor": "white",
          "plot_bgcolor": "#E5ECF6",
          "polar": {
           "angularaxis": {
            "gridcolor": "white",
            "linecolor": "white",
            "ticks": ""
           },
           "bgcolor": "#E5ECF6",
           "radialaxis": {
            "gridcolor": "white",
            "linecolor": "white",
            "ticks": ""
           }
          },
          "scene": {
           "xaxis": {
            "backgroundcolor": "#E5ECF6",
            "gridcolor": "white",
            "gridwidth": 2,
            "linecolor": "white",
            "showbackground": true,
            "ticks": "",
            "zerolinecolor": "white"
           },
           "yaxis": {
            "backgroundcolor": "#E5ECF6",
            "gridcolor": "white",
            "gridwidth": 2,
            "linecolor": "white",
            "showbackground": true,
            "ticks": "",
            "zerolinecolor": "white"
           },
           "zaxis": {
            "backgroundcolor": "#E5ECF6",
            "gridcolor": "white",
            "gridwidth": 2,
            "linecolor": "white",
            "showbackground": true,
            "ticks": "",
            "zerolinecolor": "white"
           }
          },
          "shapedefaults": {
           "line": {
            "color": "#2a3f5f"
           }
          },
          "ternary": {
           "aaxis": {
            "gridcolor": "white",
            "linecolor": "white",
            "ticks": ""
           },
           "baxis": {
            "gridcolor": "white",
            "linecolor": "white",
            "ticks": ""
           },
           "bgcolor": "#E5ECF6",
           "caxis": {
            "gridcolor": "white",
            "linecolor": "white",
            "ticks": ""
           }
          },
          "title": {
           "x": 0.05
          },
          "xaxis": {
           "automargin": true,
           "gridcolor": "white",
           "linecolor": "white",
           "ticks": "",
           "title": {
            "standoff": 15
           },
           "zerolinecolor": "white",
           "zerolinewidth": 2
          },
          "yaxis": {
           "automargin": true,
           "gridcolor": "white",
           "linecolor": "white",
           "ticks": "",
           "title": {
            "standoff": 15
           },
           "zerolinecolor": "white",
           "zerolinewidth": 2
          }
         }
        }
       }
      },
      "image/png": "[encoded data removed]",
      "text/html": [
       "<div>                            <div id=\"df58d429-baf9-4e14-af65-80fc59a4cc67\" class=\"plotly-graph-div\" style=\"height:525px; width:100%;\"></div>            <script type=\"text/javascript\">                require([\"plotly\"], function(Plotly) {                    window.PLOTLYENV=window.PLOTLYENV || {};                                    if (document.getElementById(\"df58d429-baf9-4e14-af65-80fc59a4cc67\")) {                    Plotly.newPlot(                        \"df58d429-baf9-4e14-af65-80fc59a4cc67\",                        [{\"marker\":{\"opacity\":0.8,\"size\":10},\"mode\":\"markers\",\"x\":[0,0,1,2,3,4,5,5,5,5,6,6,7,7,7,7,7,7,7,7,7,7],\"y\":[0,1,1,1,1,1,1,2,3,3,3,3,3,3,3,3,3,4,5,5,6,7],\"z\":[0,0,0,0,0,0,0,0,0,1,1,2,2,3,4,5,6,6,6,7,7,7],\"type\":\"scatter3d\"}],                        {\"template\":{\"data\":{\"histogram2dcontour\":[{\"type\":\"histogram2dcontour\",\"colorbar\":{\"outlinewidth\":0,\"ticks\":\"\"},\"colorscale\":[[0.0,\"#0d0887\"],[0.1111111111111111,\"#46039f\"],[0.2222222222222222,\"#7201a8\"],[0.3333333333333333,\"#9c179e\"],[0.4444444444444444,\"#bd3786\"],[0.5555555555555556,\"#d8576b\"],[0.6666666666666666,\"#ed7953\"],[0.7777777777777778,\"#fb9f3a\"],[0.8888888888888888,\"#fdca26\"],[1.0,\"#f0f921\"]]}],\"choropleth\":[{\"type\":\"choropleth\",\"colorbar\":{\"outlinewidth\":0,\"ticks\":\"\"}}],\"histogram2d\":[{\"type\":\"histogram2d\",\"colorbar\":{\"outlinewidth\":0,\"ticks\":\"\"},\"colorscale\":[[0.0,\"#0d0887\"],[0.1111111111111111,\"#46039f\"],[0.2222222222222222,\"#7201a8\"],[0.3333333333333333,\"#9c179e\"],[0.4444444444444444,\"#bd3786\"],[0.5555555555555556,\"#d8576b\"],[0.6666666666666666,\"#ed7953\"],[0.7777777777777778,\"#fb9f3a\"],[0.8888888888888888,\"#fdca26\"],[1.0,\"#f0f921\"]]}],\"heatmap\":[{\"type\":\"heatmap\",\"colorbar\":{\"outlinewidth\":0,\"ticks\":\"\"},\"colorscale\":[[0.0,\"#0d0887\"],[0.1111111111111111,\"#46039f\"],[0.2222222222222222,\"#7201a8\"],[0.3333333333333333,\"#9c179e\"],[0.4444444444444444,\"#bd3786\"],[0.5555555555555556,\"#d8576b\"],[0.6666666666666666,\"#ed7953\"],[0.7777777777777778,\"#fb9f3a\"],[0.8888888888888888,\"#fdca26\"],[1.0,\"#f0f921\"]]}],\"heatmapgl\":[{\"type\":\"heatmapgl\",\"colorbar\":{\"outlinewidth\":0,\"ticks\":\"\"},\"colorscale\":[[0.0,\"#0d0887\"],[0.1111111111111111,\"#46039f\"],[0.2222222222222222,\"#7201a8\"],[0.3333333333333333,\"#9c179e\"],[0.4444444444444444,\"#bd3786\"],[0.5555555555555556,\"#d8576b\"],[0.6666666666666666,\"#ed7953\"],[0.7777777777777778,\"#fb9f3a\"],[0.8888888888888888,\"#fdca26\"],[1.0,\"#f0f921\"]]}],\"contourcarpet\":[{\"type\":\"contourcarpet\",\"colorbar\":{\"outlinewidth\":0,\"ticks\":\"\"}}],\"contour\":[{\"type\":\"contour\",\"colorbar\":{\"outlinewidth\":0,\"ticks\":\"\"},\"colorscale\":[[0.0,\"#0d0887\"],[0.1111111111111111,\"#46039f\"],[0.2222222222222222,\"#7201a8\"],[0.3333333333333333,\"#9c179e\"],[0.4444444444444444,\"#bd3786\"],[0.5555555555555556,\"#d8576b\"],[0.6666666666666666,\"#ed7953\"],[0.7777777777777778,\"#fb9f3a\"],[0.8888888888888888,\"#fdca26\"],[1.0,\"#f0f921\"]]}],\"surface\":[{\"type\":\"surface\",\"colorbar\":{\"outlinewidth\":0,\"ticks\":\"\"},\"colorscale\":[[0.0,\"#0d0887\"],[0.1111111111111111,\"#46039f\"],[0.2222222222222222,\"#7201a8\"],[0.3333333333333333,\"#9c179e\"],[0.4444444444444444,\"#bd3786\"],[0.5555555555555556,\"#d8576b\"],[0.6666666666666666,\"#ed7953\"],[0.7777777777777778,\"#fb9f3a\"],[0.8888888888888888,\"#fdca26\"],[1.0,\"#f0f921\"]]}],\"mesh3d\":[{\"type\":\"mesh3d\",\"colorbar\":{\"outlinewidth\":0,\"ticks\":\"\"}}],\"scatter\":[{\"fillpattern\":{\"fillmode\":\"overlay\",\"size\":10,\"solidity\":0.2},\"type\":\"scatter\"}],\"parcoords\":[{\"type\":\"parcoords\",\"line\":{\"colorbar\":{\"outlinewidth\":0,\"ticks\":\"\"}}}],\"scatterpolargl\":[{\"type\":\"scatterpolargl\",\"marker\":{\"colorbar\":{\"outlinewidth\":0,\"ticks\":\"\"}}}],\"bar\":[{\"error_x\":{\"color\":\"#2a3f5f\"},\"error_y\":{\"color\":\"#2a3f5f\"},\"marker\":{\"line\":{\"color\":\"#E5ECF6\",\"width\":0.5},\"pattern\":{\"fillmode\":\"overlay\",\"size\":10,\"solidity\":0.2}},\"type\":\"bar\"}],\"scattergeo\":[{\"type\":\"scattergeo\",\"marker\":{\"colorbar\":{\"outlinewidth\":0,\"ticks\":\"\"}}}],\"scatterpolar\":[{\"type\":\"scatterpolar\",\"marker\":{\"colorbar\":{\"outlinewidth\":0,\"ticks\":\"\"}}}],\"histogram\":[{\"marker\":{\"pattern\":{\"fillmode\":\"overlay\",\"size\":10,\"solidity\":0.2}},\"type\":\"histogram\"}],\"scattergl\":[{\"type\":\"scattergl\",\"marker\":{\"colorbar\":{\"outlinewidth\":0,\"ticks\":\"\"}}}],\"scatter3d\":[{\"type\":\"scatter3d\",\"line\":{\"colorbar\":{\"outlinewidth\":0,\"ticks\":\"\"}},\"marker\":{\"colorbar\":{\"outlinewidth\":0,\"ticks\":\"\"}}}],\"scattermapbox\":[{\"type\":\"scattermapbox\",\"marker\":{\"colorbar\":{\"outlinewidth\":0,\"ticks\":\"\"}}}],\"scatterternary\":[{\"type\":\"scatterternary\",\"marker\":{\"colorbar\":{\"outlinewidth\":0,\"ticks\":\"\"}}}],\"scattercarpet\":[{\"type\":\"scattercarpet\",\"marker\":{\"colorbar\":{\"outlinewidth\":0,\"ticks\":\"\"}}}],\"carpet\":[{\"aaxis\":{\"endlinecolor\":\"#2a3f5f\",\"gridcolor\":\"white\",\"linecolor\":\"white\",\"minorgridcolor\":\"white\",\"startlinecolor\":\"#2a3f5f\"},\"baxis\":{\"endlinecolor\":\"#2a3f5f\",\"gridcolor\":\"white\",\"linecolor\":\"white\",\"minorgridcolor\":\"white\",\"startlinecolor\":\"#2a3f5f\"},\"type\":\"carpet\"}],\"table\":[{\"cells\":{\"fill\":{\"color\":\"#EBF0F8\"},\"line\":{\"color\":\"white\"}},\"header\":{\"fill\":{\"color\":\"#C8D4E3\"},\"line\":{\"color\":\"white\"}},\"type\":\"table\"}],\"barpolar\":[{\"marker\":{\"line\":{\"color\":\"#E5ECF6\",\"width\":0.5},\"pattern\":{\"fillmode\":\"overlay\",\"size\":10,\"solidity\":0.2}},\"type\":\"barpolar\"}],\"pie\":[{\"automargin\":true,\"type\":\"pie\"}]},\"layout\":{\"autotypenumbers\":\"strict\",\"colorway\":[\"#636efa\",\"#EF553B\",\"#00cc96\",\"#ab63fa\",\"#FFA15A\",\"#19d3f3\",\"#FF6692\",\"#B6E880\",\"#FF97FF\",\"#FECB52\"],\"font\":{\"color\":\"#2a3f5f\"},\"hovermode\":\"closest\",\"hoverlabel\":{\"align\":\"left\"},\"paper_bgcolor\":\"white\",\"plot_bgcolor\":\"#E5ECF6\",\"polar\":{\"bgcolor\":\"#E5ECF6\",\"angularaxis\":{\"gridcolor\":\"white\",\"linecolor\":\"white\",\"ticks\":\"\"},\"radialaxis\":{\"gridcolor\":\"white\",\"linecolor\":\"white\",\"ticks\":\"\"}},\"ternary\":{\"bgcolor\":\"#E5ECF6\",\"aaxis\":{\"gridcolor\":\"white\",\"linecolor\":\"white\",\"ticks\":\"\"},\"baxis\":{\"gridcolor\":\"white\",\"linecolor\":\"white\",\"ticks\":\"\"},\"caxis\":{\"gridcolor\":\"white\",\"linecolor\":\"white\",\"ticks\":\"\"}},\"coloraxis\":{\"colorbar\":{\"outlinewidth\":0,\"ticks\":\"\"}},\"colorscale\":{\"sequential\":[[0.0,\"#0d0887\"],[0.1111111111111111,\"#46039f\"],[0.2222222222222222,\"#7201a8\"],[0.3333333333333333,\"#9c179e\"],[0.4444444444444444,\"#bd3786\"],[0.5555555555555556,\"#d8576b\"],[0.6666666666666666,\"#ed7953\"],[0.7777777777777778,\"#fb9f3a\"],[0.8888888888888888,\"#fdca26\"],[1.0,\"#f0f921\"]],\"sequentialminus\":[[0.0,\"#0d0887\"],[0.1111111111111111,\"#46039f\"],[0.2222222222222222,\"#7201a8\"],[0.3333333333333333,\"#9c179e\"],[0.4444444444444444,\"#bd3786\"],[0.5555555555555556,\"#d8576b\"],[0.6666666666666666,\"#ed7953\"],[0.7777777777777778,\"#fb9f3a\"],[0.8888888888888888,\"#fdca26\"],[1.0,\"#f0f921\"]],\"diverging\":[[0,\"#8e0152\"],[0.1,\"#c51b7d\"],[0.2,\"#de77ae\"],[0.3,\"#f1b6da\"],[0.4,\"#fde0ef\"],[0.5,\"#f7f7f7\"],[0.6,\"#e6f5d0\"],[0.7,\"#b8e186\"],[0.8,\"#7fbc41\"],[0.9,\"#4d9221\"],[1,\"#276419\"]]},\"xaxis\":{\"gridcolor\":\"white\",\"linecolor\":\"white\",\"ticks\":\"\",\"title\":{\"standoff\":15},\"zerolinecolor\":\"white\",\"automargin\":true,\"zerolinewidth\":2},\"yaxis\":{\"gridcolor\":\"white\",\"linecolor\":\"white\",\"ticks\":\"\",\"title\":{\"standoff\":15},\"zerolinecolor\":\"white\",\"automargin\":true,\"zerolinewidth\":2},\"scene\":{\"xaxis\":{\"backgroundcolor\":\"#E5ECF6\",\"gridcolor\":\"white\",\"linecolor\":\"white\",\"showbackground\":true,\"ticks\":\"\",\"zerolinecolor\":\"white\",\"gridwidth\":2},\"yaxis\":{\"backgroundcolor\":\"#E5ECF6\",\"gridcolor\":\"white\",\"linecolor\":\"white\",\"showbackground\":true,\"ticks\":\"\",\"zerolinecolor\":\"white\",\"gridwidth\":2},\"zaxis\":{\"backgroundcolor\":\"#E5ECF6\",\"gridcolor\":\"white\",\"linecolor\":\"white\",\"showbackground\":true,\"ticks\":\"\",\"zerolinecolor\":\"white\",\"gridwidth\":2}},\"shapedefaults\":{\"line\":{\"color\":\"#2a3f5f\"}},\"annotationdefaults\":{\"arrowcolor\":\"#2a3f5f\",\"arrowhead\":0,\"arrowwidth\":1},\"geo\":{\"bgcolor\":\"white\",\"landcolor\":\"#E5ECF6\",\"subunitcolor\":\"white\",\"showland\":true,\"showlakes\":true,\"lakecolor\":\"white\"},\"title\":{\"x\":0.05},\"mapbox\":{\"style\":\"light\"}}},\"margin\":{\"l\":0,\"r\":0,\"b\":0,\"t\":0},\"scene\":{\"xaxis\":{\"title\":{\"text\":\"X Axis\"}},\"yaxis\":{\"title\":{\"text\":\"Y Axis\"}},\"zaxis\":{\"title\":{\"text\":\"Z Axis\"}}}},                        {\"responsive\": true}                    ).then(function(){\n",
       "                            \n",
       "var gd = document.getElementById('df58d429-baf9-4e14-af65-80fc59a4cc67');\n",
       "var x = new MutationObserver(function (mutations, observer) {{\n",
       "        var display = window.getComputedStyle(gd).display;\n",
       "        if (!display || display === 'none') {{\n",
       "            console.log([gd, 'removed!']);\n",
       "            Plotly.purge(gd);\n",
       "            observer.disconnect();\n",
       "        }}\n",
       "}});\n",
       "\n",
       "// Listen for the removal of the full notebook cells\n",
       "var notebookContainer = gd.closest('#notebook-container');\n",
       "if (notebookContainer) {{\n",
       "    x.observe(notebookContainer, {childList: true});\n",
       "}}\n",
       "\n",
       "// Listen for the clearing of the current output cell\n",
       "var outputEl = gd.closest('.output');\n",
       "if (outputEl) {{\n",
       "    x.observe(outputEl, {childList: true});\n",
       "}}\n",
       "\n",
       "                        })                };                });            </script>        </div>"
      ]
     },
     "metadata": {},
     "output_type": "display_data"
    }
   ],
   "source": [
    "import pandas as pd\n",
    "import plotly.graph_objects as go\n",
    "\n",
    "# Create the scatter plot\n",
    "fig = go.Figure(data=[go.Scatter3d(\n",
    "    x=points['x'],\n",
    "    y=points['y'],\n",
    "    z=points['z'],\n",
    "    mode='markers',\n",
    "    marker=dict(\n",
    "        size=10,\n",
    "        # symbol=\"square\", \n",
    "        opacity=0.8\n",
    "    )\n",
    ")])\n",
    "\n",
    "# Update layout for better visualization\n",
    "fig.update_layout(\n",
    "    margin=dict(l=0, r=0, b=0, t=0),\n",
    "    scene=dict(\n",
    "        xaxis_title='X Axis',\n",
    "        yaxis_title='Y Axis',\n",
    "        zaxis_title='Z Axis'\n",
    "    )\n",
    ")\n",
    "\n",
    "fig.show()"
   ]
  },
  {
   "cell_type": "code",
   "execution_count": null,
   "id": "3cd008b5-f580-4e36-a328-c58c050cc9b9",
   "metadata": {},
   "outputs": [],
   "source": []
  }
 ],
 "metadata": {
  "kernelspec": {
   "display_name": "Python 3 (ipykernel)",
   "language": "python",
   "name": "python3"
  },
  "language_info": {
   "codemirror_mode": {
    "name": "ipython",
    "version": 3
   },
   "file_extension": ".py",
   "mimetype": "text/x-python",
   "name": "python",
   "nbconvert_exporter": "python",
   "pygments_lexer": "ipython3",
   "version": "3.12.7"
  }
 },
 "nbformat": 4,
 "nbformat_minor": 5
}
